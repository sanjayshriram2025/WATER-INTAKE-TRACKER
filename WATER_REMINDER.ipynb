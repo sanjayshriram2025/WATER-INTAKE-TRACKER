{
 "cells": [
  {
   "cell_type": "code",
   "execution_count": 1,
   "id": "c05b241c-1714-4d67-bd6e-f5a7e30360c3",
   "metadata": {},
   "outputs": [
    {
     "name": "stdout",
     "output_type": "stream",
     "text": [
      "Collecting plyer\n",
      "  Downloading plyer-2.1.0-py2.py3-none-any.whl.metadata (61 kB)\n",
      "Downloading plyer-2.1.0-py2.py3-none-any.whl (142 kB)\n",
      "Installing collected packages: plyer\n",
      "Successfully installed plyer-2.1.0\n"
     ]
    }
   ],
   "source": [
    "!pip install plyer\n"
   ]
  },
  {
   "cell_type": "code",
   "execution_count": 2,
   "id": "5b2b78ce-6303-4e36-84d7-cf0d89a15150",
   "metadata": {},
   "outputs": [
    {
     "name": "stdout",
     "output_type": "stream",
     "text": [
      "\n",
      " Welcome to Water Intake Tracker \n"
     ]
    },
    {
     "name": "stdin",
     "output_type": "stream",
     "text": [
      "Enter your name:  SANJAY SHRIRAM\n",
      "Enter your weight (in kg):  69\n",
      "Enter activity level (low / moderate / high):  HIGH\n"
     ]
    },
    {
     "name": "stdout",
     "output_type": "stream",
     "text": [
      "\n",
      "SANJAY SHRIRAM, your recommended daily water intake is 3.28 liters.\n",
      "\n",
      "We’ll remind you every 60 minutes to drink 250ml of water.\n",
      "Press Ctrl+C to stop the tracker.\n",
      "\n",
      "[22:33:11] Reminder: Time to drink 250ml of water! \n"
     ]
    },
    {
     "name": "stdin",
     "output_type": "stream",
     "text": [
      "Press Enter after you drink the water... \n",
      " \n"
     ]
    },
    {
     "name": "stdout",
     "output_type": "stream",
     "text": [
      " You've completed 1/13 servings.\n",
      "Next reminder in 10 SECOUNDS  SANJAY SHRIRAM ...\n",
      "\n",
      "[22:33:28] Reminder: Time to drink 250ml of water! \n"
     ]
    },
    {
     "name": "stdin",
     "output_type": "stream",
     "text": [
      "Press Enter after you drink the water... \n",
      " \n"
     ]
    },
    {
     "name": "stdout",
     "output_type": "stream",
     "text": [
      " You've completed 2/13 servings.\n",
      "Next reminder in 10 SECOUNDS  SANJAY SHRIRAM ...\n",
      "\n",
      "[22:33:39] Reminder: Time to drink 250ml of water! \n"
     ]
    },
    {
     "name": "stdin",
     "output_type": "stream",
     "text": [
      "Press Enter after you drink the water... \n",
      " \n"
     ]
    },
    {
     "name": "stdout",
     "output_type": "stream",
     "text": [
      " You've completed 3/13 servings.\n",
      "Next reminder in 10 SECOUNDS  SANJAY SHRIRAM ...\n",
      "\n",
      "[22:33:56] Reminder: Time to drink 250ml of water! \n"
     ]
    },
    {
     "name": "stdin",
     "output_type": "stream",
     "text": [
      "Press Enter after you drink the water... \n",
      " \n"
     ]
    },
    {
     "name": "stdout",
     "output_type": "stream",
     "text": [
      " You've completed 4/13 servings.\n",
      "Next reminder in 10 SECOUNDS  SANJAY SHRIRAM ...\n",
      "\n",
      "[22:34:14] Reminder: Time to drink 250ml of water! \n"
     ]
    },
    {
     "name": "stdin",
     "output_type": "stream",
     "text": [
      "Press Enter after you drink the water... \n",
      " \n"
     ]
    },
    {
     "name": "stdout",
     "output_type": "stream",
     "text": [
      " You've completed 5/13 servings.\n",
      "Next reminder in 10 SECOUNDS  SANJAY SHRIRAM ...\n",
      "\n",
      "[22:34:25] Reminder: Time to drink 250ml of water! \n"
     ]
    },
    {
     "name": "stdin",
     "output_type": "stream",
     "text": [
      "Press Enter after you drink the water... \n",
      " \n"
     ]
    },
    {
     "name": "stdout",
     "output_type": "stream",
     "text": [
      " You've completed 6/13 servings.\n",
      "Next reminder in 10 SECOUNDS  SANJAY SHRIRAM ...\n",
      "\n",
      "[22:34:36] Reminder: Time to drink 250ml of water! \n"
     ]
    },
    {
     "name": "stdin",
     "output_type": "stream",
     "text": [
      "Press Enter after you drink the water... \n",
      " \n"
     ]
    },
    {
     "name": "stdout",
     "output_type": "stream",
     "text": [
      " You've completed 7/13 servings.\n",
      "Next reminder in 10 SECOUNDS  SANJAY SHRIRAM ...\n",
      "\n",
      "[22:34:48] Reminder: Time to drink 250ml of water! \n"
     ]
    },
    {
     "name": "stdin",
     "output_type": "stream",
     "text": [
      "Press Enter after you drink the water... \n",
      " \n"
     ]
    },
    {
     "name": "stdout",
     "output_type": "stream",
     "text": [
      " You've completed 8/13 servings.\n",
      "Next reminder in 10 SECOUNDS  SANJAY SHRIRAM ...\n",
      "\n",
      "[22:34:59] Reminder: Time to drink 250ml of water! \n"
     ]
    },
    {
     "name": "stdin",
     "output_type": "stream",
     "text": [
      "Press Enter after you drink the water... \n",
      " \n"
     ]
    },
    {
     "name": "stdout",
     "output_type": "stream",
     "text": [
      " You've completed 9/13 servings.\n",
      "Next reminder in 10 SECOUNDS  SANJAY SHRIRAM ...\n",
      "\n",
      "[22:35:17] Reminder: Time to drink 250ml of water! \n"
     ]
    },
    {
     "name": "stdin",
     "output_type": "stream",
     "text": [
      "Press Enter after you drink the water... \n",
      " \n"
     ]
    },
    {
     "name": "stdout",
     "output_type": "stream",
     "text": [
      " You've completed 10/13 servings.\n",
      "Next reminder in 10 SECOUNDS  SANJAY SHRIRAM ...\n",
      "\n",
      "[22:35:34] Reminder: Time to drink 250ml of water! \n"
     ]
    },
    {
     "name": "stdin",
     "output_type": "stream",
     "text": [
      "Press Enter after you drink the water... \n",
      " \n"
     ]
    },
    {
     "name": "stdout",
     "output_type": "stream",
     "text": [
      " You've completed 11/13 servings.\n",
      "Next reminder in 10 SECOUNDS  SANJAY SHRIRAM ...\n",
      "\n",
      "[22:35:50] Reminder: Time to drink 250ml of water! \n"
     ]
    },
    {
     "name": "stdin",
     "output_type": "stream",
     "text": [
      "Press Enter after you drink the water... \n",
      " \n"
     ]
    },
    {
     "name": "stdout",
     "output_type": "stream",
     "text": [
      " You've completed 12/13 servings.\n",
      "Next reminder in 10 SECOUNDS  SANJAY SHRIRAM ...\n",
      "\n",
      "[22:36:02] Reminder: Time to drink 250ml of water! \n"
     ]
    },
    {
     "name": "stdin",
     "output_type": "stream",
     "text": [
      "Press Enter after you drink the water... \n",
      " \n"
     ]
    },
    {
     "name": "stdout",
     "output_type": "stream",
     "text": [
      " You've completed 13/13 servings.\n",
      "Next reminder in 10 SECOUNDS  SANJAY SHRIRAM ...\n",
      "\n",
      "\n",
      " Great job, SANJAY SHRIRAM! You met your daily water goal of 3.28 liters! \n"
     ]
    }
   ],
   "source": [
    "import time\n",
    "import datetime\n",
    "from plyer import notification\n",
    "\n",
    "# Function to calculate recommended water intake\n",
    "def calculate_water_intake(weight, activity_level):\n",
    "    base = weight * 0.033  \n",
    "    if activity_level == 'moderate':\n",
    "        return base + 0.5\n",
    "    elif activity_level == 'high':\n",
    "        return base + 1\n",
    "    else:\n",
    "        return base\n",
    "\n",
    "# Function to send desktop notifications\n",
    "def send_notification(title, message):\n",
    "    notification.notify(\n",
    "        title=title,\n",
    "        message=message,\n",
    "        timeout=10\n",
    "    )\n",
    "\n",
    "# Main function\n",
    "def water_tracker():\n",
    "    print(\"\\n Welcome to Water Intake Tracker \")\n",
    "    name = input(\"Enter your name: \")\n",
    "    weight = float(input(\"Enter your weight (in kg): \"))\n",
    "    activity = input(\"Enter activity level (low / moderate / high): \").lower()\n",
    "\n",
    "    daily_target = round(calculate_water_intake(weight, activity), 2)\n",
    "    print(f\"\\n{name}, your recommended daily water intake is {daily_target} liters.\")\n",
    "\n",
    "    # Divide target into 250ml servings\n",
    "    serving_ml = 250\n",
    "    servings_needed = int((daily_target * 1000) / serving_ml)\n",
    "    servings_done = 0\n",
    "\n",
    "    print(\"\\nWe’ll remind you every 60 minutes to drink 250ml of water.\")\n",
    "    print(\"Press Ctrl+C to stop the tracker.\\n\")\n",
    "\n",
    "    try:\n",
    "        while servings_done < servings_needed:\n",
    "            now = datetime.datetime.now().strftime(\"%H:%M:%S\")\n",
    "            print(f\"[{now}] Reminder: Time to drink 250ml of water! \")\n",
    "\n",
    "            # Desktop notification (optional)\n",
    "            send_notification(\"Water Reminder \", f\"{name}, drink 250ml of water now!\")\n",
    "\n",
    "            input(\"Press Enter after you drink the water... \\n\")\n",
    "            servings_done += 1\n",
    "\n",
    "            remaining = servings_needed - servings_done\n",
    "            print(f\" You've completed {servings_done}/{servings_needed} servings.\")\n",
    "            print(f\"Next reminder in 10 SECOUNDS  {name} ...\\n\")\n",
    "            time.sleep(10)  \n",
    "    except KeyboardInterrupt:\n",
    "        print(\"\\nTracker stopped manually. Stay hydrated! \")\n",
    "\n",
    "    if servings_done == servings_needed:\n",
    "        print(f\"\\n Great job, {name}! You met your daily water goal of {daily_target} liters! \")\n",
    "\n",
    "# Run the tracker\n",
    "water_tracker()\n"
   ]
  },
  {
   "cell_type": "code",
   "execution_count": null,
   "id": "338afa4b-bda8-41be-a162-a0ee38ec8d5d",
   "metadata": {},
   "outputs": [],
   "source": []
  }
 ],
 "metadata": {
  "kernelspec": {
   "display_name": "Python 3 (ipykernel)",
   "language": "python",
   "name": "python3"
  },
  "language_info": {
   "codemirror_mode": {
    "name": "ipython",
    "version": 3
   },
   "file_extension": ".py",
   "mimetype": "text/x-python",
   "name": "python",
   "nbconvert_exporter": "python",
   "pygments_lexer": "ipython3",
   "version": "3.13.5"
  }
 },
 "nbformat": 4,
 "nbformat_minor": 5
}
